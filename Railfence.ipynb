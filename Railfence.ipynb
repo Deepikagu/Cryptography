{
  "nbformat": 4,
  "nbformat_minor": 0,
  "metadata": {
    "colab": {
      "name": "Railfence.ipynb",
      "provenance": [],
      "collapsed_sections": [],
      "authorship_tag": "ABX9TyNpE06u2bB1H7oLbhn7DnBr",
      "include_colab_link": true
    },
    "kernelspec": {
      "name": "python3",
      "display_name": "Python 3"
    },
    "language_info": {
      "name": "python"
    }
  },
  "cells": [
    {
      "cell_type": "markdown",
      "metadata": {
        "id": "view-in-github",
        "colab_type": "text"
      },
      "source": [
        "<a href=\"https://colab.research.google.com/github/Deepikagu/Cryptography/blob/main/Railfence.ipynb\" target=\"_parent\"><img src=\"https://colab.research.google.com/assets/colab-badge.svg\" alt=\"Open In Colab\"/></a>"
      ]
    },
    {
      "cell_type": "code",
      "source": [
        "#By Deepika Gupta\n",
        "def cipher(s, key, graph=False) :\n",
        "  down=True\n",
        "  raw_out=[]\n",
        "  out=''\n",
        "  i=0\n",
        "  for x in range(key) :\n",
        "    raw_out.append({})\n",
        "  for pos in range(len(s)) :\n",
        "       raw_out[i][pos]=s[pos]\n",
        "       if i==key-1 :\n",
        "         down=False\n",
        "       if i==0 :\n",
        "         down=True\n",
        "       if down :\n",
        "         i=i+1\n",
        "       else :\n",
        "         i=i-1\n",
        "  for p in raw_out :\n",
        "       for q in p :\n",
        "        out+=p[q]\n",
        "  if graph :\n",
        "       return raw_out\n",
        "  return out\n",
        "plaintext=\"\"\n",
        "key=3\n",
        "cipher(plaintext,key)\n"
      ],
      "metadata": {
        "id": "JZtRLX6ra3G7",
        "outputId": "9bc7d7df-29a3-4ecf-c651-f409b1438007",
        "colab": {
          "base_uri": "https://localhost:8080/",
          "height": 35
        }
      },
      "execution_count": null,
      "outputs": [
        {
          "output_type": "execute_result",
          "data": {
            "text/plain": [
              "''"
            ],
            "application/vnd.google.colaboratory.intrinsic+json": {
              "type": "string"
            }
          },
          "metadata": {},
          "execution_count": 1
        }
      ]
    },
    {
      "cell_type": "code",
      "source": [
        "#BY DEEPIKA GUPTA\n",
        "def decryptRailFence(cipher, key):\n",
        "\n",
        "\t# create the matrix to cipher\n",
        "\t# plain text key = rows ,\n",
        "\t# length(text) = columns\n",
        "\t# filling the rail matrix to\n",
        "\t# distinguish filled spaces\n",
        "\t# from blank ones\n",
        "\trail = [['\\n' for i in range(len(cipher))]\n",
        "\t\t\t\tfor j in range(key)]\n",
        "\t\n",
        "\t# to find the direction\n",
        "\tdir_down = None\n",
        "\trow, col = 0, 0\n",
        "\t\n",
        "\t# mark the places with '*'\n",
        "\tfor i in range(len(cipher)):\n",
        "\t\tif row == 0:\n",
        "\t\t\tdir_down = True\n",
        "\t\tif row == key - 1:\n",
        "\t\t\tdir_down = False\n",
        "\t\t\n",
        "\t\t# place the marker\n",
        "\t\trail[row][col] = '*'\n",
        "\t\tcol += 1\n",
        "\t\t\n",
        "\t\t# find the next row\n",
        "\t\t# using direction flag\n",
        "\t\tif dir_down:\n",
        "\t\t\trow += 1\n",
        "\t\telse:\n",
        "\t\t\trow -= 1\n",
        "\t\t\t\n",
        "\t# now we can construct the\n",
        "\t# fill the rail matrix\n",
        "\tindex = 0\n",
        "\tfor i in range(key):\n",
        "\t\tfor j in range(len(cipher)):\n",
        "\t\t\tif ((rail[i][j] == '*') and\n",
        "\t\t\t(index < len(cipher))):\n",
        "\t\t\t\trail[i][j] = cipher[index]\n",
        "\t\t\t\tindex += 1\n",
        "\t\t\n",
        "\t# now read the matrix in\n",
        "\t# zig-zag manner to construct\n",
        "\t# the resultant text\n",
        "\tresult = []\n",
        "\trow, col = 0, 0\n",
        "\tfor i in range(len(cipher)):\n",
        "\t\t\n",
        "\t\t# check the direction of flow\n",
        "\t\tif row == 0:\n",
        "\t\t\tdir_down = True\n",
        "\t\tif row == key-1:\n",
        "\t\t\tdir_down = False\n",
        "\t\t\t\n",
        "\t\t# place the marker\n",
        "\t\tif (rail[row][col] != '*'):\n",
        "\t\t\tresult.append(rail[row][col])\n",
        "\t\t\tcol += 1\n",
        "\t\t\t\n",
        "\t\t# find the next row using\n",
        "\t\t# direction flag\n",
        "\t\tif dir_down:\n",
        "\t\t\trow += 1\n",
        "\t\telse:\n",
        "\t\t\trow -= 1\n",
        "\treturn(\"\".join(result))\n",
        "decryptRailFence('Rnnleaaua olgmjCe',3)"
      ],
      "metadata": {
        "colab": {
          "base_uri": "https://localhost:8080/",
          "height": 35
        },
        "id": "k8N2y0nnoJBy",
        "outputId": "fce687ed-8ace-4eeb-82fb-175c79fdb564"
      },
      "execution_count": null,
      "outputs": [
        {
          "output_type": "execute_result",
          "data": {
            "text/plain": [
              "'Ramanujan College'"
            ],
            "application/vnd.google.colaboratory.intrinsic+json": {
              "type": "string"
            }
          },
          "metadata": {},
          "execution_count": 2
        }
      ]
    },
    {
      "cell_type": "code",
      "source": [
        ""
      ],
      "metadata": {
        "id": "Nq5hydN6MZXg"
      },
      "execution_count": null,
      "outputs": []
    }
  ]
}