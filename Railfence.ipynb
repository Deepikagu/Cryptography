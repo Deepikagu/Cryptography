{
  "nbformat": 4,
  "nbformat_minor": 0,
  "metadata": {
    "colab": {
      "name": "Railfence.ipynb",
      "provenance": [],
      "collapsed_sections": [],
      "authorship_tag": "ABX9TyM4zSDufrCp/RnZNtXiUFwz"
    },
    "kernelspec": {
      "name": "python3",
      "display_name": "Python 3"
    },
    "language_info": {
      "name": "python"
    }
  },
  "cells": [
    {
      "cell_type": "code",
      "source": [
        "def cipher(s, key, graph=False) :\n",
        "  down=True\n",
        "  raw_out=[]\n",
        "  out=''\n",
        "  i=0\n",
        "  for x in range(key) :\n",
        "    raw_out.append({})\n",
        "  for pos in range(len(s)) :\n",
        "       raw_out[i][pos]=s[pos]\n",
        "       if i==key-1 :\n",
        "         down=False\n",
        "       if i==0 :\n",
        "         down=True\n",
        "       if down :\n",
        "         i=i+1\n",
        "       else :\n",
        "         i=i-1\n",
        "  for p in raw_out :\n",
        "       for q in p :\n",
        "        out+=p[q]\n",
        "  if graph :\n",
        "       return raw_out\n",
        "  return out\n",
        "plaintext=\"GeeksforGeeks\"\n",
        "key=3\n",
        "cipher(plaintext,key)\n"
      ],
      "metadata": {
        "id": "JZtRLX6ra3G7",
        "outputId": "f0abaf3f-e1b6-4809-af4f-ab1655da151e",
        "colab": {
          "base_uri": "https://localhost:8080/",
          "height": 35
        }
      },
      "execution_count": 31,
      "outputs": [
        {
          "output_type": "execute_result",
          "data": {
            "text/plain": [
              "'GsGsekfrekeoe'"
            ],
            "application/vnd.google.colaboratory.intrinsic+json": {
              "type": "string"
            }
          },
          "metadata": {},
          "execution_count": 31
        }
      ]
    },
    {
      "cell_type": "code",
      "source": [
        "def decryptRailFence(cipher, key):\n",
        "\n",
        "\t# create the matrix to cipher\n",
        "\t# plain text key = rows ,\n",
        "\t# length(text) = columns\n",
        "\t# filling the rail matrix to\n",
        "\t# distinguish filled spaces\n",
        "\t# from blank ones\n",
        "\trail = [['\\n' for i in range(len(cipher))]\n",
        "\t\t\t\tfor j in range(key)]\n",
        "\t\n",
        "\t# to find the direction\n",
        "\tdir_down = None\n",
        "\trow, col = 0, 0\n",
        "\t\n",
        "\t# mark the places with '*'\n",
        "\tfor i in range(len(cipher)):\n",
        "\t\tif row == 0:\n",
        "\t\t\tdir_down = True\n",
        "\t\tif row == key - 1:\n",
        "\t\t\tdir_down = False\n",
        "\t\t\n",
        "\t\t# place the marker\n",
        "\t\trail[row][col] = '*'\n",
        "\t\tcol += 1\n",
        "\t\t\n",
        "\t\t# find the next row\n",
        "\t\t# using direction flag\n",
        "\t\tif dir_down:\n",
        "\t\t\trow += 1\n",
        "\t\telse:\n",
        "\t\t\trow -= 1\n",
        "\t\t\t\n",
        "\t# now we can construct the\n",
        "\t# fill the rail matrix\n",
        "\tindex = 0\n",
        "\tfor i in range(key):\n",
        "\t\tfor j in range(len(cipher)):\n",
        "\t\t\tif ((rail[i][j] == '*') and\n",
        "\t\t\t(index < len(cipher))):\n",
        "\t\t\t\trail[i][j] = cipher[index]\n",
        "\t\t\t\tindex += 1\n",
        "\t\t\n",
        "\t# now read the matrix in\n",
        "\t# zig-zag manner to construct\n",
        "\t# the resultant text\n",
        "\tresult = []\n",
        "\trow, col = 0, 0\n",
        "\tfor i in range(len(cipher)):\n",
        "\t\t\n",
        "\t\t# check the direction of flow\n",
        "\t\tif row == 0:\n",
        "\t\t\tdir_down = True\n",
        "\t\tif row == key-1:\n",
        "\t\t\tdir_down = False\n",
        "\t\t\t\n",
        "\t\t# place the marker\n",
        "\t\tif (rail[row][col] != '*'):\n",
        "\t\t\tresult.append(rail[row][col])\n",
        "\t\t\tcol += 1\n",
        "\t\t\t\n",
        "\t\t# find the next row using\n",
        "\t\t# direction flag\n",
        "\t\tif dir_down:\n",
        "\t\t\trow += 1\n",
        "\t\telse:\n",
        "\t\t\trow -= 1\n",
        "\treturn(\"\".join(result))\n",
        "decryptRailFence(\"GsGsekfrekeoe\",3)"
      ],
      "metadata": {
        "colab": {
          "base_uri": "https://localhost:8080/",
          "height": 35
        },
        "id": "k8N2y0nnoJBy",
        "outputId": "743bc6a3-1dd9-47c9-832d-23ef7e645f5b"
      },
      "execution_count": 30,
      "outputs": [
        {
          "output_type": "execute_result",
          "data": {
            "text/plain": [
              "'GeeksforGeeks'"
            ],
            "application/vnd.google.colaboratory.intrinsic+json": {
              "type": "string"
            }
          },
          "metadata": {},
          "execution_count": 30
        }
      ]
    }
  ]
}