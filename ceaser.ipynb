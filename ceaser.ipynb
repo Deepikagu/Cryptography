{
  "nbformat": 4,
  "nbformat_minor": 0,
  "metadata": {
    "colab": {
      "name": "ceaser.ipynb",
      "provenance": [],
      "authorship_tag": "ABX9TyP/j6yUYzhfyNLV11CUoaM2",
      "include_colab_link": true
    },
    "kernelspec": {
      "name": "python3",
      "display_name": "Python 3"
    },
    "language_info": {
      "name": "python"
    }
  },
  "cells": [
    {
      "cell_type": "markdown",
      "metadata": {
        "id": "view-in-github",
        "colab_type": "text"
      },
      "source": [
        "<a href=\"https://colab.research.google.com/github/Deepikagu/Cryptography/blob/main/ceaser.ipynb\" target=\"_parent\"><img src=\"https://colab.research.google.com/assets/colab-badge.svg\" alt=\"Open In Colab\"/></a>"
      ]
    },
    {
      "cell_type": "code",
      "source": [
        "def encrypt(text,s):\n",
        "   result=\"\"\n",
        "   # transverse the plain text\n",
        "   for i in range(len(text)):\n",
        "      char = text[i]\n",
        "      # Encrypt uppercase characters in plain text\n",
        "      \n",
        "      if (char.isupper()):\n",
        "         result += chr((ord(char) + s-65) % 26 + 65)\n",
        "      # Encrypt lowercase characters in plain text\n",
        "      else:\n",
        "         result += chr((ord(char) + s - 97) % 26 + 97)\n",
        "   return result \n",
        "#check the above function\n",
        "text=input(\"Enter Plain Text:\")\n",
        "s = int(input(\"Enter the key:\"))\n",
        "print(\"Cipher: \" + encrypt(text,s))"
      ],
      "metadata": {
        "id": "yfhYR2wgIB-3",
        "outputId": "7d7631d3-2b49-4bb2-fc8b-296014b2be44",
        "colab": {
          "base_uri": "https://localhost:8080/"
        }
      },
      "execution_count": 1,
      "outputs": [
        {
          "output_type": "stream",
          "name": "stdout",
          "text": [
            "Enter Plain Text:Deepika\n",
            "Enter the key:5\n",
            "Cipher: Ijjunpf\n"
          ]
        }
      ]
    },
    {
      "cell_type": "code",
      "source": [
        "def decrypt(text,s):\n",
        "   result=\"\"\n",
        "   # transverse the cypher text\n",
        "   for i in range(len(text)):\n",
        "      char = text[i]\n",
        "      # Encrypt uppercase characters in plain text\n",
        "      \n",
        "      if (char.isupper()):\n",
        "         result += chr((ord(char) - s-65) % 26 + 65)\n",
        "      # Encrypt lowercase characters in plain text\n",
        "      else:\n",
        "         result += chr((ord(char) - s - 97) % 26 + 97)\n",
        "   return result \n",
        "#check the above function\n",
        "text=input(\"Enter Cypher Text:\")\n",
        "s = int(input(\"Enter the key:\"))\n",
        "print(\"Plain Text: \" + decrypt(text,s))\n"
      ],
      "metadata": {
        "colab": {
          "base_uri": "https://localhost:8080/"
        },
        "id": "BDcAyEGpJrTg",
        "outputId": "53ceba21-ff4b-4c8e-b852-655092ee03f8"
      },
      "execution_count": 2,
      "outputs": [
        {
          "output_type": "stream",
          "name": "stdout",
          "text": [
            "Enter Cypher Text:Ijjunpf\n",
            "Enter the key:5\n",
            "Plain Text: Deepika\n"
          ]
        }
      ]
    }
  ]
}